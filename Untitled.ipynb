{
 "cells": [
  {
   "cell_type": "code",
   "execution_count": 3,
   "metadata": {},
   "outputs": [],
   "source": [
    "import numpy as np\n",
    "import sys\n",
    "import time\n",
    "import os\n",
    "import argparse\n",
    "import csv\n",
    "from pathlib import Path\n",
    "from os.path import dirname, join\n",
    "import tensors.synthetic_tensors as synthetic_tensors\n",
    "import argparse\n",
    "import arg_defs as arg_defs\n",
    "import csv\n",
    "import CPD.NLS\n",
    "\n",
    "from CPD.common_kernels import get_residual_sp, get_residual\n",
    "from CPD.standard_ALS import CP_DTALS_Optimizer, CP_PPALS_Optimizer, CP_partialPPALS_Optimizer\n",
    "from CPD.lowr_ALS import CP_DTLRALS_Optimizer\n",
    "\n"
   ]
  },
  {
   "cell_type": "code",
   "execution_count": null,
   "metadata": {},
   "outputs": [],
   "source": []
  }
 ],
 "metadata": {
  "kernelspec": {
   "display_name": "Python 3",
   "language": "python",
   "name": "python3"
  },
  "language_info": {
   "codemirror_mode": {
    "name": "ipython",
    "version": 3
   },
   "file_extension": ".py",
   "mimetype": "text/x-python",
   "name": "python",
   "nbconvert_exporter": "python",
   "pygments_lexer": "ipython3",
   "version": "3.5.2"
  }
 },
 "nbformat": 4,
 "nbformat_minor": 2
}
