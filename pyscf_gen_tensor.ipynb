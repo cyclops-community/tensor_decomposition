{
 "cells": [
  {
   "cell_type": "code",
   "execution_count": 1,
   "metadata": {},
   "outputs": [
    {
     "name": "stderr",
     "output_type": "stream",
     "text": [
      "/home/edgar/envs/py35env/lib/python3.5/importlib/_bootstrap.py:222: RuntimeWarning: numpy.dtype size changed, may indicate binary incompatibility. Expected 96, got 88\n",
      "  return f(*args, **kwds)\n",
      "/home/edgar/envs/py35env/lib/python3.5/importlib/_bootstrap.py:222: RuntimeWarning: numpy.dtype size changed, may indicate binary incompatibility. Expected 96, got 88\n",
      "  return f(*args, **kwds)\n"
     ]
    }
   ],
   "source": [
    "import numpy as np\n",
    "import CPD.standard_ALS3 as als\n",
    "import CPD.common_kernels as ck\n",
    "import run_als as ra"
   ]
  },
  {
   "cell_type": "code",
   "execution_count": 2,
   "metadata": {},
   "outputs": [
    {
     "name": "stderr",
     "output_type": "stream",
     "text": [
      "/home/edgar/envs/py35env/lib/python3.5/importlib/_bootstrap.py:222: RuntimeWarning: numpy.dtype size changed, may indicate binary incompatibility. Expected 88 from C header, got 96 from PyObject\n",
      "  return f(*args, **kwds)\n",
      "/home/edgar/envs/py35env/lib/python3.5/importlib/_bootstrap.py:222: RuntimeWarning: numpy.dtype size changed, may indicate binary incompatibility. Expected 96, got 88\n",
      "  return f(*args, **kwds)\n"
     ]
    }
   ],
   "source": [
    "import pyscf"
   ]
  },
  {
   "cell_type": "code",
   "execution_count": 3,
   "metadata": {},
   "outputs": [
    {
     "name": "stderr",
     "output_type": "stream",
     "text": [
      "Warning: <pyscf.gto.mole.Mole object at 0x7f29b6bc7668> must be initialized before calling SCF.\n",
      "Initialize <pyscf.gto.mole.Mole object at 0x7f29b6bc7668> in <pyscf.scf.hf.RHF object at 0x7f29b6bc76d8>\n"
     ]
    },
    {
     "name": "stdout",
     "output_type": "stream",
     "text": [
      "[['H', (0, 0, 0)], ['H', (1, 1, 1)], ['H', (2, 2, 2)], ['H', (3, 3, 3)], ['H', (4, 4, 4)], ['H', (5, 5, 5)], ['H', (6, 6, 6)], ['H', (7, 7, 7)], ['H', (8, 8, 8)], ['H', (9, 9, 9)], ['H', (10, 10, 10)], ['H', (11, 11, 11)], ['H', (12, 12, 12)], ['H', (13, 13, 13)], ['H', (14, 14, 14)], ['H', (15, 15, 15)], ['H', (16, 16, 16)], ['H', (17, 17, 17)], ['H', (18, 18, 18)], ['H', (19, 19, 19)]]\n",
      "converged SCF energy = -9.67130665717616\n",
      "(360, 7260)\n",
      "120 7260 7260\n",
      "(360, 120, 120)\n"
     ]
    }
   ],
   "source": [
    "from pyscf import gto, scf\n",
    "\n",
    "mol = gto.Mole(basis='def2-tzvp')\n",
    "n = 20\n",
    "mol.atom = [['H',(0, 0, 0)]]\n",
    "mol.atom.extend([['H', (i, i, i)] for i in range(1,n)])\n",
    "print(mol.atom)\n",
    "mf = scf.RHF(mol).density_fit().run()\n",
    "T_sym = mf.with_df._cderi\n",
    "print(T_sym.shape)\n",
    "NN1 = T_sym.shape[1]\n",
    "N = int(np.floor(np.sqrt(NN1*2)))\n",
    "print(N,N*(N+1)//2,NN1)\n",
    "T = np.zeros((T_sym.shape[0],N,N))\n",
    "print(T.shape)\n",
    "for i in range(T.shape[0]):\n",
    "    T[i][np.triu_indices(N)] = T_sym[i][:]\n",
    "    T[i] += T[i].T\n",
    "    T[i] -= np.diag(np.diagonal(T[i])/2.)\n"
   ]
  },
  {
   "cell_type": "code",
   "execution_count": 4,
   "metadata": {},
   "outputs": [
    {
     "name": "stdout",
     "output_type": "stream",
     "text": [
      "16.82125611736662\n",
      "('Residual computation took', 32.79309153556824, 'seconds')\n",
      "[ 0 ] Residual is 284249.1948395324 fitness is:  -16897.214548084048\n",
      "('[', 0, '] Sweep took', 16.62209939956665, 'seconds')\n",
      "('Residual computation took', 32.605045795440674, 'seconds')\n",
      "[ 1 ] Residual is 10.773374383614064 fitness is:  0.35953805658476334\n",
      "('[', 1, '] Sweep took', 16.71377468109131, 'seconds')\n",
      "('Residual computation took', 32.654518842697144, 'seconds')\n",
      "[ 2 ] Residual is 7.535327207510753 fitness is:  0.5520354036027593\n",
      "('[', 2, '] Sweep took', 16.747679471969604, 'seconds')\n",
      "('Residual computation took', 32.90021228790283, 'seconds')\n",
      "[ 3 ] Residual is 6.531874801858573 fitness is:  0.6116892367440427\n",
      "('[', 3, '] Sweep took', 16.712374210357666, 'seconds')\n",
      "('Residual computation took', 32.31586980819702, 'seconds')\n",
      "[ 4 ] Residual is 5.731753310577832 fitness is:  0.6592553332173423\n",
      "('[', 4, '] Sweep took', 16.54741859436035, 'seconds')\n",
      "('Residual computation took', 32.379770278930664, 'seconds')\n",
      "[ 5 ] Residual is 4.986183124507543 fitness is:  0.7035784313776839\n",
      "('[', 5, '] Sweep took', 16.742470026016235, 'seconds')\n",
      "('Residual computation took', 32.224905490875244, 'seconds')\n",
      "[ 6 ] Residual is 4.367894093869693 fitness is:  0.7403348439977566\n",
      "('[', 6, '] Sweep took', 17.08551049232483, 'seconds')\n",
      "('Residual computation took', 32.567891120910645, 'seconds')\n",
      "[ 7 ] Residual is 3.8818417180459943 fitness is:  0.7692299736142595\n",
      "('[', 7, '] Sweep took', 16.567428588867188, 'seconds')\n",
      "('Residual computation took', 33.38785457611084, 'seconds')\n",
      "[ 8 ] Residual is 3.490687130779734 fitness is:  0.7924835632711237\n",
      "('[', 8, '] Sweep took', 18.00892734527588, 'seconds')\n",
      "('Residual computation took', 34.29833674430847, 'seconds')\n",
      "[ 9 ] Residual is 3.174862084851867 fitness is:  0.8112589177229117\n",
      "('[', 9, '] Sweep took', 19.01115655899048, 'seconds')\n",
      "('Residual computation took', 34.193920850753784, 'seconds')\n",
      "[ 10 ] Residual is 2.9079385600487937 fitness is:  0.8271271455734761\n",
      "('[', 10, '] Sweep took', 19.098835468292236, 'seconds')\n",
      "('Residual computation took', 33.53973889350891, 'seconds')\n",
      "[ 11 ] Residual is 2.6750247939633485 fitness is:  0.8409735411375375\n",
      "('[', 11, '] Sweep took', 17.712806463241577, 'seconds')\n",
      "('Residual computation took', 32.622148513793945, 'seconds')\n",
      "[ 12 ] Residual is 2.4704935831835786 fitness is:  0.8531326337375609\n",
      "('[', 12, '] Sweep took', 17.64897584915161, 'seconds')\n",
      "('Residual computation took', 32.705772161483765, 'seconds')\n",
      "[ 13 ] Residual is 2.29349293155265 fitness is:  0.8636550733458722\n",
      "('[', 13, '] Sweep took', 17.665833950042725, 'seconds')\n",
      "('Residual computation took', 32.75547909736633, 'seconds')\n",
      "[ 14 ] Residual is 2.1413902645989595 fitness is:  0.8726973628094192\n",
      "('[', 14, '] Sweep took', 17.55250859260559, 'seconds')\n",
      "('Residual computation took', 33.08666467666626, 'seconds')\n",
      "[ 15 ] Residual is 2.0094107685317972 fitness is:  0.8805433580874357\n",
      "('[', 15, '] Sweep took', 17.498194932937622, 'seconds')\n",
      "('Residual computation took', 32.625083208084106, 'seconds')\n",
      "[ 16 ] Residual is 1.8885046893069535 fitness is:  0.8877310543201812\n",
      "('[', 16, '] Sweep took', 17.569588899612427, 'seconds')\n",
      "('Residual computation took', 32.57394576072693, 'seconds')\n",
      "[ 17 ] Residual is 1.7840861143266806 fitness is:  0.8939385916320035\n",
      "('[', 17, '] Sweep took', 17.837737798690796, 'seconds')\n",
      "('Residual computation took', 32.66171431541443, 'seconds')\n",
      "[ 18 ] Residual is 1.6939330975349025 fitness is:  0.899298061588513\n",
      "('[', 18, '] Sweep took', 17.517632722854614, 'seconds')\n",
      "('Residual computation took', 32.533172369003296, 'seconds')\n",
      "[ 19 ] Residual is 1.6125776669340262 fitness is:  0.9041345274287116\n",
      "('[', 19, '] Sweep took', 17.7034649848938, 'seconds')\n"
     ]
    },
    {
     "ename": "AttributeError",
     "evalue": "'NoneType' object has no attribute 'hosvd'",
     "output_type": "error",
     "traceback": [
      "\u001b[0;31m---------------------------------------------------------------------------\u001b[0m",
      "\u001b[0;31mAttributeError\u001b[0m                            Traceback (most recent call last)",
      "\u001b[0;32m<ipython-input-4-cab6d08de0b4>\u001b[0m in \u001b[0;36m<module>\u001b[0;34m()\u001b[0m\n\u001b[1;32m      5\u001b[0m     \u001b[0mA\u001b[0m\u001b[0;34m.\u001b[0m\u001b[0mappend\u001b[0m\u001b[0;34m(\u001b[0m\u001b[0mnp\u001b[0m\u001b[0;34m.\u001b[0m\u001b[0mrandom\u001b[0m\u001b[0;34m.\u001b[0m\u001b[0mrandom\u001b[0m\u001b[0;34m(\u001b[0m\u001b[0;34m(\u001b[0m\u001b[0mT\u001b[0m\u001b[0;34m.\u001b[0m\u001b[0mshape\u001b[0m\u001b[0;34m[\u001b[0m\u001b[0mi\u001b[0m\u001b[0;34m]\u001b[0m\u001b[0;34m,\u001b[0m\u001b[0mR\u001b[0m\u001b[0;34m)\u001b[0m\u001b[0;34m)\u001b[0m\u001b[0;34m)\u001b[0m\u001b[0;34m\u001b[0m\u001b[0m\n\u001b[1;32m      6\u001b[0m \u001b[0mprint\u001b[0m\u001b[0;34m(\u001b[0m\u001b[0mnp\u001b[0m\u001b[0;34m.\u001b[0m\u001b[0mlinalg\u001b[0m\u001b[0;34m.\u001b[0m\u001b[0mnorm\u001b[0m\u001b[0;34m(\u001b[0m\u001b[0mT\u001b[0m\u001b[0;34m)\u001b[0m\u001b[0;34m)\u001b[0m\u001b[0;34m\u001b[0m\u001b[0m\n\u001b[0;32m----> 7\u001b[0;31m \u001b[0mra\u001b[0m\u001b[0;34m.\u001b[0m\u001b[0mCP_ALS\u001b[0m\u001b[0;34m(\u001b[0m\u001b[0mtenpy\u001b[0m\u001b[0;34m,\u001b[0m\u001b[0mA\u001b[0m\u001b[0;34m,\u001b[0m\u001b[0mT\u001b[0m\u001b[0;34m,\u001b[0m\u001b[0;32mNone\u001b[0m\u001b[0;34m,\u001b[0m\u001b[0;36m20\u001b[0m\u001b[0;34m,\u001b[0m\u001b[0;32mFalse\u001b[0m\u001b[0;34m,\u001b[0m\u001b[0mRegu\u001b[0m\u001b[0;34m=\u001b[0m\u001b[0;36m.001\u001b[0m\u001b[0;34m)\u001b[0m\u001b[0;34m\u001b[0m\u001b[0m\n\u001b[0m",
      "\u001b[0;32m~/work/py_ten_dec_alg/run_als.py\u001b[0m in \u001b[0;36mCP_ALS\u001b[0;34m(tenpy, A, input_tensor, O, num_iter, sp_res, csv_writer, Regu, method, tol, hosvd, args)\u001b[0m\n\u001b[1;32m     86\u001b[0m         \u001b[0mfitness_old\u001b[0m \u001b[0;34m=\u001b[0m \u001b[0mfitness\u001b[0m\u001b[0;34m\u001b[0m\u001b[0m\n\u001b[1;32m     87\u001b[0m \u001b[0;34m\u001b[0m\u001b[0m\n\u001b[0;32m---> 88\u001b[0;31m     \u001b[0;32mif\u001b[0m \u001b[0margs\u001b[0m\u001b[0;34m.\u001b[0m\u001b[0mhosvd\u001b[0m \u001b[0;34m!=\u001b[0m \u001b[0;36m0\u001b[0m\u001b[0;34m:\u001b[0m\u001b[0;34m\u001b[0m\u001b[0m\n\u001b[0m\u001b[1;32m     89\u001b[0m         \u001b[0mA_fullsize\u001b[0m \u001b[0;34m=\u001b[0m \u001b[0;34m[\u001b[0m\u001b[0;34m]\u001b[0m\u001b[0;34m\u001b[0m\u001b[0m\n\u001b[1;32m     90\u001b[0m         \u001b[0mnorm_input\u001b[0m \u001b[0;34m=\u001b[0m \u001b[0mtenpy\u001b[0m\u001b[0;34m.\u001b[0m\u001b[0mvecnorm\u001b[0m\u001b[0;34m(\u001b[0m\u001b[0minput_tensor\u001b[0m\u001b[0;34m)\u001b[0m\u001b[0;34m\u001b[0m\u001b[0m\n",
      "\u001b[0;31mAttributeError\u001b[0m: 'NoneType' object has no attribute 'hosvd'"
     ]
    }
   ],
   "source": [
    "import backend.numpy_ext as tenpy\n",
    "R = 1000\n",
    "A = []\n",
    "for i in range(3):\n",
    "    A.append(np.random.random((T.shape[i],R)))\n",
    "print(np.linalg.norm(T))\n",
    "ra.CP_ALS(tenpy,A,T,None,20,False,Regu=.001)"
   ]
  },
  {
   "cell_type": "code",
   "execution_count": null,
   "metadata": {},
   "outputs": [],
   "source": []
  },
  {
   "cell_type": "code",
   "execution_count": null,
   "metadata": {},
   "outputs": [],
   "source": []
  },
  {
   "cell_type": "code",
   "execution_count": null,
   "metadata": {},
   "outputs": [],
   "source": []
  }
 ],
 "metadata": {
  "kernelspec": {
   "display_name": "Python 3",
   "language": "python",
   "name": "python3"
  },
  "language_info": {
   "codemirror_mode": {
    "name": "ipython",
    "version": 3
   },
   "file_extension": ".py",
   "mimetype": "text/x-python",
   "name": "python",
   "nbconvert_exporter": "python",
   "pygments_lexer": "ipython3",
   "version": "3.6.5"
  }
 },
 "nbformat": 4,
 "nbformat_minor": 2
}
