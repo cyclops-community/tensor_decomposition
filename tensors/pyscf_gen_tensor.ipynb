{
 "cells": [
  {
   "cell_type": "code",
   "execution_count": 8,
   "metadata": {},
   "outputs": [],
   "source": [
    "import numpy as np\n",
    "import CPD.standard_ALS3 as als\n",
    "import CPD.common_kernels as ck"
   ]
  },
  {
   "cell_type": "code",
   "execution_count": 9,
   "metadata": {},
   "outputs": [],
   "source": [
    "import pyscf"
   ]
  },
  {
   "cell_type": "code",
   "execution_count": 11,
   "metadata": {},
   "outputs": [
    {
     "name": "stdout",
     "output_type": "stream",
     "text": [
      "[['H', (0, 0, 0)], ['H', (1, 1, 1)], ['H', (2, 2, 2)], ['H', (3, 3, 3)], ['H', (4, 4, 4)], ['H', (5, 5, 5)], ['H', (6, 6, 6)], ['H', (7, 7, 7)], ['H', (8, 8, 8)], ['H', (9, 9, 9)]]\n"
     ]
    },
    {
     "name": "stderr",
     "output_type": "stream",
     "text": [
      "Warning: <pyscf.gto.mole.Mole object at 0x7fa5c6524828> must be initialized before calling SCF.\n",
      "Initialize <pyscf.gto.mole.Mole object at 0x7fa5c6524828> in <pyscf.scf.uhf.UHF object at 0x7fa5c6524470>\n"
     ]
    }
   ],
   "source": [
    "from pyscf import gto, scf\n",
    "\n",
    "mol = gto.Mole()\n",
    "n = 10\n",
    "mol.atom = [['H',(0, 0, 0)]]\n",
    "mol.atom.extend([['H', (i, i, i)] for i in range(1,10)])\n",
    "print(mol.atom)\n",
    "mf = scf.UHF(mol)"
   ]
  },
  {
   "cell_type": "code",
   "execution_count": null,
   "metadata": {},
   "outputs": [],
   "source": []
  },
  {
   "cell_type": "code",
   "execution_count": null,
   "metadata": {},
   "outputs": [],
   "source": []
  }
 ],
 "metadata": {
  "kernelspec": {
   "display_name": "Python 3",
   "language": "python",
   "name": "python3"
  },
  "language_info": {
   "codemirror_mode": {
    "name": "ipython",
    "version": 3
   },
   "file_extension": ".py",
   "mimetype": "text/x-python",
   "name": "python",
   "nbconvert_exporter": "python",
   "pygments_lexer": "ipython3",
   "version": "3.6.7"
  }
 },
 "nbformat": 4,
 "nbformat_minor": 2
}
